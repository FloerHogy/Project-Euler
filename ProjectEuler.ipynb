{
 "cells": [
  {
   "cell_type": "code",
   "execution_count": 1,
   "id": "d0eb4f16-5a99-460d-a5ba-706b7ef0bbe7",
   "metadata": {
    "executionTime": 85,
    "id": "bA5ajAmk7XH6",
    "lastSuccessfullyExecutedCode": "#1 Somme des éléments <1000\n\nl = []\nfor i in range (1000) :\n    if i % 3 == 0:\n        l.append(i)\n    elif i % 5 == 0:\n        l.append(i)\n\nprint(sum(l))"
   },
   "outputs": [
    {
     "name": "stdout",
     "output_type": "stream",
     "text": [
      "233168\n"
     ]
    }
   ],
   "source": [
    "#1 Somme des éléments <1000\n",
    "\n",
    "l = []\n",
    "for i in range (1000) :\n",
    "    if i % 3 == 0:\n",
    "        l.append(i)\n",
    "    elif i % 5 == 0:\n",
    "        l.append(i)\n",
    "\n",
    "print(sum(l))"
   ]
  },
  {
   "cell_type": "code",
   "execution_count": 2,
   "id": "98559340-9368-4e3f-b9f8-cb3fa9d8da4b",
   "metadata": {
    "executionTime": 66,
    "lastSuccessfullyExecutedCode": "#2\n\nl=[1,2]\nf= 2\nk= 2\nwhile f <= 4000000:\n    f= l[-2]+l[-1]\n    l.append(f)\n    if f % 2 ==0 and f<= 4000000:\n        k = k+ f\nprint(k)\n    "
   },
   "outputs": [
    {
     "name": "stdout",
     "output_type": "stream",
     "text": [
      "4613732\n"
     ]
    }
   ],
   "source": [
    "#2\n",
    "\n",
    "l=[1,2]\n",
    "f= 2\n",
    "k= 2\n",
    "while f <= 4000000:\n",
    "    f= l[-2]+l[-1]\n",
    "    l.append(f)\n",
    "    if f % 2 ==0 and f<= 4000000:\n",
    "        k = k+ f\n",
    "print(k)\n",
    "    "
   ]
  },
  {
   "cell_type": "code",
   "execution_count": 3,
   "id": "6e22779e-c9fe-41db-97dc-e7e2a7831f65",
   "metadata": {
    "executionTime": 58,
    "lastSuccessfullyExecutedCode": "#3\n\ndef is_prime(n):\n    k=2\n    if n == 0 or n ==1:\n        return False\n    else:\n        while k<n and n % k != 0:\n            k = k+1\n        if k == n :\n            return True\n        else :\n            return False\n\ndef prime_fact(n):\n    if n == 1 :\n        return []\n    else :\n        p = 2\n        while n % p != 0  :\n            p = p+1\n        return prime_fact(n/p) + [p]\n\ndef b_prime_fact(n) :\n    return max(prime_fact(n))\nb_prime_fact(600851475143)\n            "
   },
   "outputs": [
    {
     "data": {
      "text/plain": [
       "6857"
      ]
     },
     "execution_count": 3,
     "metadata": {},
     "output_type": "execute_result"
    }
   ],
   "source": [
    "#3\n",
    "\n",
    "def is_prime(n):\n",
    "    k=2\n",
    "    if n == 0 or n ==1:\n",
    "        return False\n",
    "    else:\n",
    "        while k<n and n % k != 0:\n",
    "            k = k+1\n",
    "        if k == n :\n",
    "            return True\n",
    "        else :\n",
    "            return False\n",
    "\n",
    "def prime_fact(n):\n",
    "    if n == 1 :\n",
    "        return []\n",
    "    else :\n",
    "        p = 2\n",
    "        while n % p != 0  :\n",
    "            p = p+1\n",
    "        return prime_fact(n/p) + [p]\n",
    "\n",
    "def b_prime_fact(n) :\n",
    "    return max(prime_fact(n))\n",
    "b_prime_fact(600851475143)\n",
    "            "
   ]
  },
  {
   "cell_type": "code",
   "execution_count": 4,
   "id": "4270b9ca-985c-4196-8239-480d4b21bb56",
   "metadata": {
    "executionTime": 84,
    "lastSuccessfullyExecutedCode": "#4 Palyndromes\nimport numpy as np\n\ndef is_pal(n):\n    k=n\n    l=[]\n    res = 0\n    while k>=10:\n        l.append(k % 10)\n        k = (k-k%10)/10\n    l.append(k)\n    l.reverse()\n    c=0\n    for i in l:\n        res = res+ i* 10**(c)\n        c=c+1\n    return res == n\n\n\ndef b_pal(n):\n    k=0\n    for i in range(int(np.sqrt(n))+1 +1):\n    \tfor j in range(int(np.sqrt(n))+1 +1):\n            if i*j > k and i*j <n and is_pal(i*j):\n                k = i*j\n    return k\n\ndef b_pal_prod(n):\n    res=[0,0,0]\n    for i in range(n):\n        for j in range(n):\n            if i*j > res[0] and is_pal(i*j):\n                res = [i*j,i,j]\n    return res\n\nprint(b_pal_prod(1000))\n\n"
   },
   "outputs": [
    {
     "name": "stdout",
     "output_type": "stream",
     "text": [
      "[906609, 913, 993]\n"
     ]
    }
   ],
   "source": [
    "#4 Palyndromes\n",
    "import numpy as np\n",
    "\n",
    "def is_pal(n):\n",
    "    k=n\n",
    "    l=[]\n",
    "    res = 0\n",
    "    while k>=10:\n",
    "        l.append(k % 10)\n",
    "        k = (k-k%10)/10\n",
    "    l.append(k)\n",
    "    l.reverse()\n",
    "    c=0\n",
    "    for i in l:\n",
    "        res = res+ i* 10**(c)\n",
    "        c=c+1\n",
    "    return res == n\n",
    "\n",
    "\n",
    "def b_pal(n):\n",
    "    k=0\n",
    "    for i in range(int(np.sqrt(n))+1 +1):\n",
    "    \tfor j in range(int(np.sqrt(n))+1 +1):\n",
    "            if i*j > k and i*j <n and is_pal(i*j):\n",
    "                k = i*j\n",
    "    return k\n",
    "\n",
    "def b_pal_prod(n):\n",
    "    res=[0,0,0]\n",
    "    for i in range(n):\n",
    "        for j in range(n):\n",
    "            if i*j > res[0] and is_pal(i*j):\n",
    "                res = [i*j,i,j]\n",
    "    return res\n",
    "\n",
    "print(b_pal_prod(1000))\n",
    "\n"
   ]
  },
  {
   "cell_type": "code",
   "execution_count": 5,
   "id": "88b11b32-c9d3-40fd-97e9-dc78c2e75715",
   "metadata": {
    "executionTime": 68,
    "lastSuccessfullyExecutedCode": "#5 smallest multiplier\n\ndef s_multiple(n):\n    l = []\n    p = 2\n    for i in range(n-1):\n        k = prime_fact(i+2)\n        l.append(k)\n        if p < max(k):\n            p = max(k)\n    l_res = []\n    res = 1\n    for i in range(p-1):\n        c=0\n        for j in l :\n            k= j.count(i+2)\n            if k>c:\n                c=k\n            l_res.append(c)\n        res = res * (i+2)**c\n    return res\n\nprint(s_multiple(20))\n            \n        \n        "
   },
   "outputs": [
    {
     "name": "stdout",
     "output_type": "stream",
     "text": [
      "232792560\n"
     ]
    }
   ],
   "source": [
    "#5 smallest multiplier\n",
    "\n",
    "def s_multiple(n):\n",
    "    l = []\n",
    "    p = 2\n",
    "    for i in range(n-1):\n",
    "        k = prime_fact(i+2)\n",
    "        l.append(k)\n",
    "        if p < max(k):\n",
    "            p = max(k)\n",
    "    l_res = []\n",
    "    res = 1\n",
    "    for i in range(p-1):\n",
    "        c=0\n",
    "        for j in l :\n",
    "            k= j.count(i+2)\n",
    "            if k>c:\n",
    "                c=k\n",
    "            l_res.append(c)\n",
    "        res = res * (i+2)**c\n",
    "    return res\n",
    "\n",
    "print(s_multiple(20))\n",
    "            \n",
    "        \n",
    "        "
   ]
  },
  {
   "cell_type": "code",
   "execution_count": 6,
   "id": "9f78cbb2-ffcd-43ef-a036-b7085238fe79",
   "metadata": {
    "executionTime": 58,
    "lastSuccessfullyExecutedCode": "#6\nsc = 0\ns = 0\nfor i in range(100):\n    s= s+i+1\n    sc = sc +(i+1)**2\nprint(s**2-sc)"
   },
   "outputs": [
    {
     "name": "stdout",
     "output_type": "stream",
     "text": [
      "25164150\n"
     ]
    }
   ],
   "source": [
    "#6\n",
    "sc = 0\n",
    "s = 0\n",
    "for i in range(100):\n",
    "    s= s+i+1\n",
    "    sc = sc +(i+1)**2\n",
    "print(s**2-sc)"
   ]
  },
  {
   "cell_type": "code",
   "execution_count": 12,
   "id": "ca6f42aa-089f-4fef-b8a5-edb1dd3b5ac4",
   "metadata": {
    "executionTime": 43834,
    "lastSuccessfullyExecutedCode": "#7\ndef nth_prime(n):\n    res= 2\n    k = 2\n    i = 1\n    while i <= n:\n        if is_prime(k):\n            res = k\n            k = k+1\n            i = i+1\n        else:\n            k = k+1\n    return res\nnth_prime(10001)"
   },
   "outputs": [
    {
     "data": {
      "text/plain": [
       "104743"
      ]
     },
     "execution_count": 12,
     "metadata": {},
     "output_type": "execute_result"
    }
   ],
   "source": [
    "#7\n",
    "def nth_prime(n):\n",
    "    res= 2\n",
    "    k = 2\n",
    "    i = 1\n",
    "    while i <= n:\n",
    "        if is_prime(k):\n",
    "            res = k\n",
    "            k = k+1\n",
    "            i = i+1\n",
    "        else:\n",
    "            k = k+1\n",
    "    return res\n",
    "nth_prime(10001)"
   ]
  },
  {
   "cell_type": "code",
   "execution_count": 8,
   "id": "91370d98-7eae-4be9-b0a4-63a6f6372254",
   "metadata": {
    "executionTime": 74,
    "lastSuccessfullyExecutedCode": "#8\n\ndef num_to_list(n):\n    res = [int(d) for d in str(n)]\n    return res\n\ndef prod_kcons(n,k):\n    res = 0\n    l= num_to_list(n)\n    for i in range(len(l)-k+1):\n        res_temp = 1\n        for j in range(k):\n            res_temp= res_temp * l[i+j]\n        if res_temp> res:\n            res= res_temp\n    return res\nprint(prod_kcons(7316717653133062491922511967442657474235534919493496983520312774506326239578318016984801869478851843858615607891129494954595017379583319528532088055111254069874715852386305071569329096329522744304355766896648950445244523161731856403098711121722383113622298934233803081353362766142828064444866452387493035890729629049156044077239071381051585930796086670172427121883998797908792274921901699720888093776657273330010533678812202354218097512545405947522435258490771167055601360483958644670632441572215539753697817977846174064955149290862569321978468622482839722413756570560574902614079729686524145351004748216637048440319989000889524345065854122758866688116427171479924442928230863465674813919123162824586178664583591245665294765456828489128831426076900422421902267105562632111110937054421750694165896040807198403850962455444362981230987879927244284909188845801561660979191338754992005240636899125607176060588611646710940507754100225698315520005593572972571636269561882670428252483600823257530420752963450,13))\n            \n        "
   },
   "outputs": [
    {
     "name": "stdout",
     "output_type": "stream",
     "text": [
      "23514624000\n"
     ]
    }
   ],
   "source": [
    "#8\n",
    "\n",
    "def num_to_list(n):\n",
    "    res = [int(d) for d in str(n)]\n",
    "    return res\n",
    "\n",
    "def prod_kcons(n,k):\n",
    "    res = 0\n",
    "    l= num_to_list(n)\n",
    "    for i in range(len(l)-k+1):\n",
    "        res_temp = 1\n",
    "        for j in range(k):\n",
    "            res_temp= res_temp * l[i+j]\n",
    "        if res_temp> res:\n",
    "            res= res_temp\n",
    "    return res\n",
    "print(prod_kcons(7316717653133062491922511967442657474235534919493496983520312774506326239578318016984801869478851843858615607891129494954595017379583319528532088055111254069874715852386305071569329096329522744304355766896648950445244523161731856403098711121722383113622298934233803081353362766142828064444866452387493035890729629049156044077239071381051585930796086670172427121883998797908792274921901699720888093776657273330010533678812202354218097512545405947522435258490771167055601360483958644670632441572215539753697817977846174064955149290862569321978468622482839722413756570560574902614079729686524145351004748216637048440319989000889524345065854122758866688116427171479924442928230863465674813919123162824586178664583591245665294765456828489128831426076900422421902267105562632111110937054421750694165896040807198403850962455444362981230987879927244284909188845801561660979191338754992005240636899125607176060588611646710940507754100225698315520005593572972571636269561882670428252483600823257530420752963450,13))\n",
    "            \n",
    "        "
   ]
  },
  {
   "cell_type": "code",
   "execution_count": 9,
   "id": "5030df67-3d60-4fae-84a3-c4ddf40cff14",
   "metadata": {
    "executionTime": 19560,
    "lastSuccessfullyExecutedCode": "#9\nl=[]\nfor c in range(1001):\n    for b in range(c):\n        for a in range(b):\n            if a+b+c == 1000 and a**2 +b**2 == c**2:\n                l.append([a,b,c])\n\nprint(l[0][0]*l[0][1]*l[0][2])"
   },
   "outputs": [
    {
     "name": "stdout",
     "output_type": "stream",
     "text": [
      "31875000\n"
     ]
    }
   ],
   "source": [
    "#9\n",
    "l=[]\n",
    "for c in range(1001):\n",
    "    for b in range(c):\n",
    "        for a in range(b):\n",
    "            if a+b+c == 1000 and a**2 +b**2 == c**2:\n",
    "                l.append([a,b,c])\n",
    "\n",
    "print(l[0][0]*l[0][1]*l[0][2])"
   ]
  },
  {
   "cell_type": "code",
   "execution_count": 11,
   "id": "acbc16ba-d7f3-4ebe-9d3a-28159b4e1d9d",
   "metadata": {
    "executionTime": 37652,
    "lastSuccessfullyExecutedCode": "#10\nimport math\n\ndef is_prime2(n):\n    k=2\n    if n == 0 or n ==1:\n        return False\n    else:\n        while k<=(int(math.sqrt(n))) and n % k != 0:\n            k = k+1\n        if k == (int(math.sqrt(n))+1) :\n            return True\n        else :\n            return False\n  \n\nres=0\nfor c in range(2,2000001):\n    if is_prime2(c):\n        res= res + c\nprint(res)"
   },
   "outputs": [
    {
     "name": "stdout",
     "output_type": "stream",
     "text": [
      "142913828922\n"
     ]
    }
   ],
   "source": [
    "#10\n",
    "import math\n",
    "\n",
    "def is_prime2(n):\n",
    "    k=2\n",
    "    if n == 0 or n ==1:\n",
    "        return False\n",
    "    else:\n",
    "        while k<=(int(math.sqrt(n))) and n % k != 0:\n",
    "            k = k+1\n",
    "        if k == (int(math.sqrt(n))+1) :\n",
    "            return True\n",
    "        else :\n",
    "            return False\n",
    "  \n",
    "\n",
    "res=0\n",
    "for c in range(2,2000001):\n",
    "    if is_prime2(c):\n",
    "        res= res + c\n",
    "print(res)"
   ]
  },
  {
   "cell_type": "code",
   "execution_count": 26,
   "id": "61da0609-d298-4419-922e-2fe4750611f3",
   "metadata": {},
   "outputs": [
    {
     "name": "stdout",
     "output_type": "stream",
     "text": [
      "70600674\n"
     ]
    }
   ],
   "source": [
    "#11\n",
    "\n",
    "with open(\"Input_10.txt\") as f:\n",
    "    l = f.readlines()\n",
    "    lol=[list(map(int,i.strip().split(' '))) for i in l]\n",
    "\n",
    "c=0\n",
    "lg= len(lol)\n",
    "for i in range(lg):\n",
    "    for j in range(lg-3):\n",
    "        c = max(c, lol[i][j]*lol[i][j+1]*lol[i][j+2]*lol[i][j+3],lol[j][i]*lol[j+1][i]*lol[j+2][i]*lol[j+3][i])\n",
    "for i in range(lg-3):\n",
    "    for j in range(lg-3):\n",
    "        c=max(c,lol[i][j]*lol[i+1][j+1]*lol[i+2][j+2]*lol[i+3][j+3], lol[i+3][j]*lol[i+2][j+1]*lol[i+1][j+2]*lol[i][j+3])\n",
    "print(c)"
   ]
  },
  {
   "cell_type": "code",
   "execution_count": null,
   "id": "97f6f4c5-3b69-4195-9929-ea01326e002a",
   "metadata": {},
   "outputs": [],
   "source": []
  }
 ],
 "metadata": {
  "colab": {
   "name": "Welcome to DataCamp Workspaces.ipynb",
   "provenance": []
  },
  "kernelspec": {
   "display_name": "Python 3 (ipykernel)",
   "language": "python",
   "name": "python3"
  },
  "language_info": {
   "codemirror_mode": {
    "name": "ipython",
    "version": 3
   },
   "file_extension": ".py",
   "mimetype": "text/x-python",
   "name": "python",
   "nbconvert_exporter": "python",
   "pygments_lexer": "ipython3",
   "version": "3.9.13"
  }
 },
 "nbformat": 4,
 "nbformat_minor": 5
}
